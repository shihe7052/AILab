{
  "cells": [
    {
      "cell_type": "markdown",
      "metadata": {
        "id": "title"
      },
      "source": [
        "# 🤖 RNN聊天機器人\n",
        "\n",
        "基於PyTorch的序列到序列(Seq2Seq)模型，使用Luong注意力機制的聊天機器人。\n",
        "此版本專為Google Colab環境優化，每次執行都會重新訓練模型，充分利用GPU加速。"
      ]
    },
    {
      "cell_type": "code",
      "execution_count": null,
      "metadata": {
        "id": "setup",
        "colab": {
          "base_uri": "https://localhost:8080/"
        },
        "outputId": "0ad248aa-c4e3-4688-938a-7649cd4be1cf"
      },
      "outputs": [
        {
          "output_type": "stream",
          "name": "stdout",
          "text": [
            "============================================================\n",
            "🔄 RNN聊天機器人 - Google Colab重新訓練版本\n",
            "============================================================\n",
            "PyTorch版本: 2.8.0+cu126\n",
            "CUDA可用: True\n",
            "GPU設備: Tesla T4\n",
            "GPU記憶體: 14.7 GB\n",
            "✅ 使用GPU加速訓練: cuda\n",
            "============================================================\n",
            "⚠️ 注意：此版本每次執行都會重新訓練模型\n",
            "============================================================\n"
          ]
        }
      ],
      "source": [
        "# 1. 環境設置和GPU檢測\n",
        "import torch\n",
        "import os\n",
        "\n",
        "print(\"=\" * 60)\n",
        "print(\"🔄 RNN聊天機器人 - Google Colab重新訓練版本\")\n",
        "print(\"=\" * 60)\n",
        "print(f\"PyTorch版本: {torch.__version__}\")\n",
        "print(f\"CUDA可用: {torch.cuda.is_available()}\")\n",
        "\n",
        "if torch.cuda.is_available():\n",
        "    print(f\"GPU設備: {torch.cuda.get_device_name(0)}\")\n",
        "    print(f\"GPU記憶體: {torch.cuda.get_device_properties(0).total_memory / 1024**3:.1f} GB\")\n",
        "    device = torch.device(\"cuda\")\n",
        "    print(f\"✅ 使用GPU加速訓練: {device}\")\n",
        "else:\n",
        "    device = torch.device(\"cpu\")\n",
        "    print(f\"⚠️ 使用CPU訓練: {device}\")\n",
        "\n",
        "print(\"=\" * 60)\n",
        "print(\"⚠️ 注意：此版本每次執行都會重新訓練模型\")\n",
        "print(\"=\" * 60)"
      ]
    },
    {
      "cell_type": "code",
      "execution_count": null,
      "metadata": {
        "id": "install",
        "colab": {
          "base_uri": "https://localhost:8080/",
          "height": 1000
        },
        "outputId": "68dcb2c9-44b8-4b56-9a39-573301741bc9"
      },
      "outputs": [
        {
          "output_type": "stream",
          "name": "stdout",
          "text": [
            "Requirement already satisfied: jieba in /usr/local/lib/python3.12/dist-packages (0.42.1)\n",
            "Requirement already satisfied: matplotlib in /usr/local/lib/python3.12/dist-packages (3.10.0)\n",
            "Requirement already satisfied: tqdm in /usr/local/lib/python3.12/dist-packages (4.67.1)\n",
            "Requirement already satisfied: contourpy>=1.0.1 in /usr/local/lib/python3.12/dist-packages (from matplotlib) (1.3.3)\n",
            "Requirement already satisfied: cycler>=0.10 in /usr/local/lib/python3.12/dist-packages (from matplotlib) (0.12.1)\n",
            "Requirement already satisfied: fonttools>=4.22.0 in /usr/local/lib/python3.12/dist-packages (from matplotlib) (4.60.0)\n",
            "Requirement already satisfied: kiwisolver>=1.3.1 in /usr/local/lib/python3.12/dist-packages (from matplotlib) (1.4.9)\n",
            "Requirement already satisfied: numpy>=1.23 in /usr/local/lib/python3.12/dist-packages (from matplotlib) (2.0.2)\n",
            "Requirement already satisfied: packaging>=20.0 in /usr/local/lib/python3.12/dist-packages (from matplotlib) (25.0)\n",
            "Requirement already satisfied: pillow>=8 in /usr/local/lib/python3.12/dist-packages (from matplotlib) (11.3.0)\n",
            "Requirement already satisfied: pyparsing>=2.3.1 in /usr/local/lib/python3.12/dist-packages (from matplotlib) (3.2.4)\n",
            "Requirement already satisfied: python-dateutil>=2.7 in /usr/local/lib/python3.12/dist-packages (from matplotlib) (2.9.0.post0)\n",
            "Requirement already satisfied: six>=1.5 in /usr/local/lib/python3.12/dist-packages (from python-dateutil>=2.7->matplotlib) (1.17.0)\n",
            "Hit:1 http://archive.ubuntu.com/ubuntu jammy InRelease\n",
            "Get:2 http://archive.ubuntu.com/ubuntu jammy-updates InRelease [128 kB]\n",
            "Get:3 http://security.ubuntu.com/ubuntu jammy-security InRelease [129 kB]\n",
            "Hit:4 https://developer.download.nvidia.com/compute/cuda/repos/ubuntu2204/x86_64  InRelease\n",
            "Hit:5 https://cli.github.com/packages stable InRelease\n",
            "Get:6 http://archive.ubuntu.com/ubuntu jammy-backports InRelease [127 kB]\n",
            "Get:7 https://cloud.r-project.org/bin/linux/ubuntu jammy-cran40/ InRelease [3,632 B]\n",
            "Hit:8 https://ppa.launchpadcontent.net/deadsnakes/ppa/ubuntu jammy InRelease\n",
            "Hit:9 https://ppa.launchpadcontent.net/graphics-drivers/ppa/ubuntu jammy InRelease\n",
            "Hit:10 https://ppa.launchpadcontent.net/ubuntugis/ppa/ubuntu jammy InRelease\n",
            "Get:11 http://security.ubuntu.com/ubuntu jammy-security/universe amd64 Packages [1,274 kB]\n",
            "Get:12 http://security.ubuntu.com/ubuntu jammy-security/main amd64 Packages [3,371 kB]\n",
            "Get:13 http://archive.ubuntu.com/ubuntu jammy-updates/main amd64 Packages [3,690 kB]\n",
            "Get:14 http://security.ubuntu.com/ubuntu jammy-security/restricted amd64 Packages [5,609 kB]\n",
            "Get:15 https://r2u.stat.illinois.edu/ubuntu jammy InRelease [6,555 B]\n",
            "Get:16 http://archive.ubuntu.com/ubuntu jammy-updates/universe amd64 Packages [1,577 kB]\n",
            "Get:17 http://archive.ubuntu.com/ubuntu jammy-updates/restricted amd64 Packages [5,804 kB]\n",
            "Get:18 https://cloud.r-project.org/bin/linux/ubuntu jammy-cran40/ Packages [81.0 kB]\n",
            "Get:19 https://r2u.stat.illinois.edu/ubuntu jammy/main amd64 Packages [2,808 kB]\n",
            "Get:20 https://r2u.stat.illinois.edu/ubuntu jammy/main all Packages [9,307 kB]\n",
            "Fetched 33.9 MB in 4s (9,135 kB/s)\n",
            "Reading package lists... Done\n",
            "W: Skipping acquire of configured file 'main/source/Sources' as repository 'https://r2u.stat.illinois.edu/ubuntu jammy InRelease' does not seem to provide it (sources.list entry misspelt?)\n",
            "Reading package lists... Done\n",
            "Building dependency tree... Done\n",
            "Reading state information... Done\n",
            "Suggested packages:\n",
            "  fonts-noto-cjk-extra\n",
            "The following NEW packages will be installed:\n",
            "  fonts-noto-cjk\n",
            "0 upgraded, 1 newly installed, 0 to remove and 38 not upgraded.\n",
            "Need to get 61.2 MB of archives.\n",
            "After this operation, 93.2 MB of additional disk space will be used.\n",
            "Get:1 http://archive.ubuntu.com/ubuntu jammy/main amd64 fonts-noto-cjk all 1:20220127+repack1-1 [61.2 MB]\n",
            "Fetched 61.2 MB in 1s (61.1 MB/s)\n",
            "Selecting previously unselected package fonts-noto-cjk.\n",
            "(Reading database ... 126441 files and directories currently installed.)\n",
            "Preparing to unpack .../fonts-noto-cjk_1%3a20220127+repack1-1_all.deb ...\n",
            "Unpacking fonts-noto-cjk (1:20220127+repack1-1) ...\n",
            "Setting up fonts-noto-cjk (1:20220127+repack1-1) ...\n",
            "Processing triggers for fontconfig (2.13.1-4.2ubuntu5) ...\n",
            "/usr/share/fonts: caching, new cache contents: 0 fonts, 2 dirs\n",
            "/usr/share/fonts/opentype: caching, new cache contents: 0 fonts, 1 dirs\n",
            "/usr/share/fonts/opentype/noto: caching, new cache contents: 30 fonts, 0 dirs\n",
            "/usr/share/fonts/truetype: caching, new cache contents: 0 fonts, 2 dirs\n",
            "/usr/share/fonts/truetype/humor-sans: caching, new cache contents: 1 fonts, 0 dirs\n",
            "/usr/share/fonts/truetype/liberation: caching, new cache contents: 16 fonts, 0 dirs\n",
            "/usr/local/share/fonts: caching, new cache contents: 0 fonts, 0 dirs\n",
            "/root/.local/share/fonts: skipping, no such directory\n",
            "/root/.fonts: skipping, no such directory\n",
            "/usr/share/fonts/opentype: skipping, looped directory detected\n",
            "/usr/share/fonts/truetype: skipping, looped directory detected\n",
            "/usr/share/fonts/opentype/noto: skipping, looped directory detected\n",
            "/usr/share/fonts/truetype/humor-sans: skipping, looped directory detected\n",
            "/usr/share/fonts/truetype/liberation: skipping, looped directory detected\n",
            "/var/cache/fontconfig: cleaning cache directory\n",
            "/root/.cache/fontconfig: not cleaning non-existent cache directory\n",
            "/root/.fontconfig: not cleaning non-existent cache directory\n",
            "fc-cache: succeeded\n",
            "📥 下載中文字體...\n",
            "✅ 中文字體下載完成\n",
            "✅ 中文字體設置完成\n"
          ]
        },
        {
          "output_type": "display_data",
          "data": {
            "text/plain": [
              "<Figure size 600x200 with 1 Axes>"
            ],
            "image/png": "[encoded data removed]"
          },
          "metadata": {}
        },
        {
          "output_type": "stream",
          "name": "stdout",
          "text": [
            "✅ NLTK數據下載完成\n"
          ]
        }
      ],
      "source": [
        "# 2. 安裝依賴套件和中文字體設置\n",
        "!pip install jieba matplotlib tqdm\n",
        "\n",
        "# 安裝中文字體\n",
        "!apt-get update\n",
        "!apt-get install -y fonts-noto-cjk\n",
        "!fc-cache -fv\n",
        "\n",
        "# 下載並設置中文字體\n",
        "import matplotlib.pyplot as plt\n",
        "import matplotlib.font_manager as fm\n",
        "import urllib.request\n",
        "import os\n",
        "\n",
        "# 下載思源黑體\n",
        "font_url = 'https://github.com/adobe-fonts/source-han-sans/raw/release/OTF/TraditionalChinese/SourceHanSansTC-Regular.otf'\n",
        "font_path = '/content/SourceHanSansTC-Regular.otf'\n",
        "\n",
        "try:\n",
        "    if not os.path.exists(font_path):\n",
        "        print(\"📥 下載中文字體...\")\n",
        "        urllib.request.urlretrieve(font_url, font_path)\n",
        "        print(\"✅ 中文字體下載完成\")\n",
        "\n",
        "    # 註冊字體\n",
        "    fm.fontManager.addfont(font_path)\n",
        "\n",
        "    # 設置matplotlib使用中文字體\n",
        "    plt.rcParams['font.family'] = ['Source Han Sans TC', 'DejaVu Sans', 'sans-serif']\n",
        "    plt.rcParams['axes.unicode_minus'] = False\n",
        "\n",
        "    print(\"✅ 中文字體設置完成\")\n",
        "\n",
        "except Exception as e:\n",
        "    print(f\"⚠️ 字體設置失敗，使用備用方案: {e}\")\n",
        "    # 備用字體設置\n",
        "    plt.rcParams['font.family'] = ['Noto Sans CJK TC', 'SimHei', 'DejaVu Sans']\n",
        "    plt.rcParams['axes.unicode_minus'] = False\n",
        "\n",
        "# 測試中文顯示\n",
        "import matplotlib.pyplot as plt\n",
        "fig, ax = plt.subplots(figsize=(6, 2))\n",
        "ax.text(0.5, 0.5, '中文字體測試 - 訓練損失曲線',\n",
        "        horizontalalignment='center', verticalalignment='center',\n",
        "        fontsize=14, transform=ax.transAxes)\n",
        "ax.set_xlim(0, 1)\n",
        "ax.set_ylim(0, 1)\n",
        "ax.axis('off')\n",
        "plt.title('字體測試')\n",
        "plt.show()\n",
        "plt.close()\n",
        "\n",
        "# 下載NLTK數據\n",
        "import nltk\n",
        "try:\n",
        "    nltk.download('punkt', quiet=True)\n",
        "    print(\"✅ NLTK數據下載完成\")\n",
        "except:\n",
        "    print(\"⚠️ NLTK數據下載失敗，但不影響主要功能\")"
      ]
    },
    {
      "cell_type": "code",
      "execution_count": null,
      "metadata": {
        "id": "config",
        "colab": {
          "base_uri": "https://localhost:8080/"
        },
        "outputId": "d0607065-a052-4e9b-a3aa-4eaa8237f409"
      },
      "outputs": [
        {
          "output_type": "stream",
          "name": "stdout",
          "text": [
            "📊 訓練參數配置:\n",
            "  iterations: 2000\n",
            "  batch_size: 16\n",
            "  learning_rate: 0.0001\n",
            "  hidden_size: 128\n",
            "  encoder_n_layers: 1\n",
            "  decoder_n_layers: 1\n",
            "  dropout: 0.1\n",
            "  print_every: 50\n",
            "  clip: 50.0\n",
            "  teacher_forcing_ratio: 1.0\n",
            "  max_length: 8\n"
          ]
        }
      ],
      "source": [
        "# 3. 訓練參數配置\n",
        "TRAINING_CONFIG = {\n",
        "    'iterations': 2000,        # 訓練迭代次數（降低以適合Colab）\n",
        "    'batch_size': 16,          # 批次大小（降低以避免內存問題）\n",
        "    'learning_rate': 0.0001,   # 學習率\n",
        "    'hidden_size': 128,        # 隱藏層大小（降低以適合Colab）\n",
        "    'encoder_n_layers': 1,     # 編碼器層數（降低複雜度）\n",
        "    'decoder_n_layers': 1,     # 解碼器層數（降低複雜度）\n",
        "    'dropout': 0.1,            # Dropout率\n",
        "    'print_every': 50,         # 每N次迭代打印一次\n",
        "    'clip': 50.0,              # 梯度裁剪\n",
        "    'teacher_forcing_ratio': 1.0,  # 教師強制比率\n",
        "    'max_length': 8            # 最大序列長度（降低以提高穩定性）\n",
        "}\n",
        "\n",
        "print(\"📊 訓練參數配置:\")\n",
        "for key, value in TRAINING_CONFIG.items():\n",
        "    print(f\"  {key}: {value}\")"
      ]
    },
    {
      "cell_type": "code",
      "execution_count": null,
      "metadata": {
        "id": "imports",
        "colab": {
          "base_uri": "https://localhost:8080/"
        },
        "outputId": "882cfbc9-f25d-4956-967e-eeabfe07b7d3"
      },
      "outputs": [
        {
          "output_type": "stream",
          "name": "stderr",
          "text": [
            "/usr/local/lib/python3.12/dist-packages/jieba/__init__.py:44: SyntaxWarning: invalid escape sequence '\\.'\n",
            "  re_han_default = re.compile(\"([\\u4E00-\\u9FD5a-zA-Z0-9+#&\\._%\\-]+)\", re.U)\n",
            "/usr/local/lib/python3.12/dist-packages/jieba/__init__.py:46: SyntaxWarning: invalid escape sequence '\\s'\n",
            "  re_skip_default = re.compile(\"(\\r\\n|\\s)\", re.U)\n",
            "/usr/local/lib/python3.12/dist-packages/jieba/finalseg/__init__.py:78: SyntaxWarning: invalid escape sequence '\\.'\n",
            "  re_skip = re.compile(\"([a-zA-Z0-9]+(?:\\.\\d+)?%?)\")\n"
          ]
        },
        {
          "output_type": "stream",
          "name": "stdout",
          "text": [
            "✅ 所有庫導入完成\n"
          ]
        }
      ],
      "source": [
        "# 4. 導入必要的庫\n",
        "import torch.nn as nn\n",
        "from torch import optim\n",
        "import torch.nn.functional as F\n",
        "import random\n",
        "import re\n",
        "import itertools\n",
        "import numpy as np\n",
        "import jieba\n",
        "import matplotlib.pyplot as plt\n",
        "from IPython.display import clear_output\n",
        "import time\n",
        "from tqdm import tqdm\n",
        "import warnings\n",
        "warnings.filterwarnings('ignore')\n",
        "\n",
        "# 設置隨機種子\n",
        "random.seed(42)\n",
        "torch.manual_seed(42)\n",
        "if torch.cuda.is_available():\n",
        "    torch.cuda.manual_seed(42)\n",
        "\n",
        "print(\"✅ 所有庫導入完成\")"
      ]
    },
    {
      "cell_type": "code",
      "execution_count": null,
      "metadata": {
        "id": "data_structures",
        "colab": {
          "base_uri": "https://localhost:8080/"
        },
        "outputId": "2ae66474-88dc-4b06-bef9-fd3fa9247c2f"
      },
      "outputs": [
        {
          "output_type": "stream",
          "name": "stdout",
          "text": [
            "✅ 詞彙表類別定義完成\n"
          ]
        }
      ],
      "source": [
        "# 5. 核心數據結構定義\n",
        "PAD_token = 0  # 填充標記\n",
        "SOS_token = 1  # 句子開始標記\n",
        "EOS_token = 2  # 句子結束標記\n",
        "\n",
        "class Voc:\n",
        "    def __init__(self, name):\n",
        "        self.name = name\n",
        "        self.trimmed = False\n",
        "        self.word2index = {}\n",
        "        self.word2count = {}\n",
        "        self.index2word = {PAD_token: \"PAD\", SOS_token: \"SOS\", EOS_token: \"EOS\"}\n",
        "        self.num_words = 3\n",
        "        self.UNK_token = None\n",
        "\n",
        "    def addSentence(self, sentence):\n",
        "        words = self.tokenize_sentence(sentence)\n",
        "        for word in words:\n",
        "            if word.strip():\n",
        "                self.addWord(word)\n",
        "\n",
        "    def addWord(self, word):\n",
        "        if word not in self.word2index:\n",
        "            self.word2index[word] = self.num_words\n",
        "            self.word2count[word] = 1\n",
        "            self.index2word[self.num_words] = word\n",
        "            self.num_words += 1\n",
        "        else:\n",
        "            self.word2count[word] += 1\n",
        "\n",
        "    def add_unknown_token(self):\n",
        "        if \"UNK\" not in self.word2index:\n",
        "            self.UNK_token = self.num_words\n",
        "            self.word2index[\"UNK\"] = self.num_words\n",
        "            self.index2word[self.num_words] = \"UNK\"\n",
        "            self.num_words += 1\n",
        "\n",
        "    def tokenize_sentence(self, sentence):\n",
        "        if not isinstance(sentence, str):\n",
        "            sentence = str(sentence)\n",
        "\n",
        "        has_chinese = bool(re.search(r'[\\u4e00-\\u9fff]', sentence))\n",
        "\n",
        "        if has_chinese:\n",
        "            words = list(jieba.cut(sentence))\n",
        "            words = [word for word in words if word.strip()]\n",
        "            return words\n",
        "        else:\n",
        "            return sentence.split()\n",
        "\n",
        "print(\"✅ 詞彙表類別定義完成\")"
      ]
    },
    {
      "cell_type": "code",
      "execution_count": null,
      "metadata": {
        "id": "data_functions",
        "colab": {
          "base_uri": "https://localhost:8080/"
        },
        "outputId": "53fb18ba-8e25-45ac-fd71-d79f2bb5a9f0"
      },
      "outputs": [
        {
          "output_type": "stream",
          "name": "stdout",
          "text": [
            "✅ 數據處理函數定義完成\n"
          ]
        }
      ],
      "source": [
        "# 6. 數據處理函數\n",
        "def normalizeString(s):\n",
        "    if not isinstance(s, str):\n",
        "        s = str(s)\n",
        "    s = s.lower().strip()\n",
        "    s = re.sub(r\"([.!?？！。，,；;：:])\", r\" \\1 \", s)\n",
        "    s = re.sub(r\"\\s+\", r\" \", s).strip()\n",
        "    return s\n",
        "\n",
        "def indexesFromSentence(voc, sentence):\n",
        "    if not isinstance(sentence, str):\n",
        "        sentence = str(sentence)\n",
        "\n",
        "    words = voc.tokenize_sentence(sentence)\n",
        "\n",
        "    if not hasattr(voc, 'UNK_token') or voc.UNK_token is None:\n",
        "        voc.add_unknown_token()\n",
        "\n",
        "    indexes = []\n",
        "    for word in words:\n",
        "        if word in voc.word2index:\n",
        "            indexes.append(voc.word2index[word])\n",
        "        else:\n",
        "            indexes.append(voc.UNK_token)\n",
        "\n",
        "    indexes.append(EOS_token)\n",
        "    return indexes\n",
        "\n",
        "def zeroPadding(l, fillvalue=PAD_token):\n",
        "    return list(itertools.zip_longest(*l, fillvalue=fillvalue))\n",
        "\n",
        "def binaryMatrix(l, value=PAD_token):\n",
        "    m = []\n",
        "    for i, seq in enumerate(l):\n",
        "        m.append([])\n",
        "        for token in seq:\n",
        "            if token == PAD_token:\n",
        "                m[i].append(0)\n",
        "            else:\n",
        "                m[i].append(1)\n",
        "    return m\n",
        "\n",
        "def inputVar(l, voc):\n",
        "    indexes_batch = [indexesFromSentence(voc, sentence) for sentence in l]\n",
        "    lengths = torch.tensor([len(indexes) for indexes in indexes_batch], dtype=torch.long)\n",
        "    padList = zeroPadding(indexes_batch)\n",
        "    padVar = torch.LongTensor(padList)\n",
        "    return padVar, lengths\n",
        "\n",
        "def outputVar(l, voc):\n",
        "    indexes_batch = [indexesFromSentence(voc, sentence) for sentence in l]\n",
        "    max_target_len = max([len(indexes) for indexes in indexes_batch])\n",
        "    padList = zeroPadding(indexes_batch)\n",
        "    mask = binaryMatrix(padList)\n",
        "    mask = torch.BoolTensor(mask)\n",
        "    padVar = torch.LongTensor(padList)\n",
        "    return padVar, mask, max_target_len\n",
        "\n",
        "def batch2TrainData(voc, pair_batch):\n",
        "    pair_batch.sort(key=lambda x: len(x[0].split(\" \")), reverse=True)\n",
        "    input_batch, output_batch = [], []\n",
        "    for pair in pair_batch:\n",
        "        input_batch.append(pair[0])\n",
        "        output_batch.append(pair[1])\n",
        "    inp, lengths = inputVar(input_batch, voc)\n",
        "    output, mask, max_target_len = outputVar(output_batch, voc)\n",
        "    return inp, lengths, output, mask, max_target_len\n",
        "\n",
        "print(\"✅ 數據處理函數定義完成\")"
      ]
    },
    {
      "cell_type": "code",
      "execution_count": null,
      "metadata": {
        "id": "sample_data",
        "colab": {
          "base_uri": "https://localhost:8080/"
        },
        "outputId": "c961d114-2e66-4716-ba4f-44457191f279"
      },
      "outputs": [
        {
          "output_type": "stream",
          "name": "stdout",
          "text": [
            "✅ 創建了 18 組示例訓練數據\n"
          ]
        }
      ],
      "source": [
        "# 7. 創建示例訓練數據\n",
        "sample_data = [\n",
        "    [\"你好\", \"你好！\"],\n",
        "    [\"hi\", \"Hello!\"],\n",
        "    [\"早安\", \"早安！\"],\n",
        "    [\"晚安\", \"晚安！\"],\n",
        "    [\"什麼是RNN\", \"RNN是循環神經網絡\"],\n",
        "    [\"什麼是AI\", \"AI是人工智能\"],\n",
        "    [\"Python好學嗎\", \"Python很容易學\"],\n",
        "    [\"如何學習\", \"需要多練習\"],\n",
        "    [\"今天天氣\", \"天氣很好\"],\n",
        "    [\"你的名字\", \"我是聊天機器人\"],\n",
        "    [\"你會什麼\", \"我會聊天\"],\n",
        "    [\"謝謝\", \"不客氣\"],\n",
        "    [\"how are you\", \"I am fine\"],\n",
        "    [\"what is ML\", \"Machine learning\"],\n",
        "    [\"goodbye\", \"Goodbye!\"],\n",
        "    [\"你喜歡什麼\", \"我喜歡學習\"],\n",
        "    [\"推薦書籍\", \"深度學習很好\"],\n",
        "    [\"神經網絡\", \"模仿大腦的模型\"]\n",
        "]\n",
        "\n",
        "print(f\"✅ 創建了 {len(sample_data)} 組示例訓練數據\")"
      ]
    },
    {
      "cell_type": "code",
      "execution_count": null,
      "metadata": {
        "id": "build_vocab",
        "colab": {
          "base_uri": "https://localhost:8080/"
        },
        "outputId": "86a5cf1b-346d-463c-f60a-72164b01e25b"
      },
      "outputs": [
        {
          "output_type": "stream",
          "name": "stderr",
          "text": [
            "Building prefix dict from the default dictionary ...\n",
            "DEBUG:jieba:Building prefix dict from the default dictionary ...\n"
          ]
        },
        {
          "output_type": "stream",
          "name": "stdout",
          "text": [
            "🔧 開始構建詞彙表...\n"
          ]
        },
        {
          "output_type": "stream",
          "name": "stderr",
          "text": [
            "Dumping model to file cache /tmp/jieba.cache\n",
            "DEBUG:jieba:Dumping model to file cache /tmp/jieba.cache\n",
            "Loading model cost 0.781 seconds.\n",
            "DEBUG:jieba:Loading model cost 0.781 seconds.\n",
            "Prefix dict has been built successfully.\n",
            "DEBUG:jieba:Prefix dict has been built successfully.\n"
          ]
        },
        {
          "output_type": "stream",
          "name": "stdout",
          "text": [
            "✅ 詞彙表構建完成\n",
            "📊 統計信息:\n",
            "  - 總詞彙量: 65\n",
            "  - 訓練對數: 18\n",
            "\n",
            "📝 訓練數據準備完成: 18 對\n"
          ]
        }
      ],
      "source": [
        "# 8. 數據預處理和詞彙表構建\n",
        "print(\"🔧 開始構建詞彙表...\")\n",
        "\n",
        "voc = Voc(\"chatbot\")\n",
        "pairs = []\n",
        "\n",
        "for question, answer in sample_data:\n",
        "    question = normalizeString(question)\n",
        "    answer = normalizeString(answer)\n",
        "\n",
        "    voc.addSentence(question)\n",
        "    voc.addSentence(answer)\n",
        "\n",
        "    pairs.append([question, answer])\n",
        "\n",
        "voc.add_unknown_token()\n",
        "\n",
        "print(f\"✅ 詞彙表構建完成\")\n",
        "print(f\"📊 統計信息:\")\n",
        "print(f\"  - 總詞彙量: {voc.num_words}\")\n",
        "print(f\"  - 訓練對數: {len(pairs)}\")\n",
        "\n",
        "training_pairs = pairs\n",
        "print(f\"\\n📝 訓練數據準備完成: {len(training_pairs)} 對\")"
      ]
    },
    {
      "cell_type": "code",
      "execution_count": null,
      "metadata": {
        "id": "models",
        "colab": {
          "base_uri": "https://localhost:8080/"
        },
        "outputId": "5ecafad5-8e41-4116-d8b0-8a975c39e87e"
      },
      "outputs": [
        {
          "output_type": "stream",
          "name": "stdout",
          "text": [
            "✅ 神經網絡模型定義完成\n"
          ]
        }
      ],
      "source": [
        "# 9. 神經網絡模型定義\n",
        "class EncoderRNN(nn.Module):\n",
        "    def __init__(self, hidden_size, embedding, n_layers=1, dropout=0):\n",
        "        super(EncoderRNN, self).__init__()\n",
        "        self.n_layers = n_layers\n",
        "        self.hidden_size = hidden_size\n",
        "        self.embedding = embedding\n",
        "        self.gru = nn.GRU(hidden_size, hidden_size, n_layers,\n",
        "                          dropout=(0 if n_layers == 1 else dropout), bidirectional=True)\n",
        "\n",
        "    def forward(self, input_seq, input_lengths, hidden=None):\n",
        "        embedded = self.embedding(input_seq)\n",
        "        # 確保 input_lengths 在 CPU 上\n",
        "        input_lengths_cpu = input_lengths.cpu()\n",
        "        packed = nn.utils.rnn.pack_padded_sequence(embedded, input_lengths_cpu, enforce_sorted=False)\n",
        "        outputs, hidden = self.gru(packed, hidden)\n",
        "        outputs, _ = nn.utils.rnn.pad_packed_sequence(outputs)\n",
        "        outputs = outputs[:, :, :self.hidden_size] + outputs[:, : ,self.hidden_size:]\n",
        "        return outputs, hidden\n",
        "\n",
        "class Attn(nn.Module):\n",
        "    def __init__(self, method, hidden_size):\n",
        "        super(Attn, self).__init__()\n",
        "        self.method = method\n",
        "        self.hidden_size = hidden_size\n",
        "\n",
        "    def dot_score(self, hidden, encoder_output):\n",
        "        return torch.sum(hidden * encoder_output, dim=2)\n",
        "\n",
        "    def forward(self, hidden, encoder_outputs):\n",
        "        attn_energies = self.dot_score(hidden, encoder_outputs)\n",
        "        attn_energies = attn_energies.t()\n",
        "        return F.softmax(attn_energies, dim=1).unsqueeze(1)\n",
        "\n",
        "class LuongAttnDecoderRNN(nn.Module):\n",
        "    def __init__(self, attn_model, embedding, hidden_size, output_size, n_layers=1, dropout=0.1):\n",
        "        super(LuongAttnDecoderRNN, self).__init__()\n",
        "        self.attn_model = attn_model\n",
        "        self.hidden_size = hidden_size\n",
        "        self.output_size = output_size\n",
        "        self.n_layers = n_layers\n",
        "        self.dropout = dropout\n",
        "\n",
        "        self.embedding = embedding\n",
        "        self.embedding_dropout = nn.Dropout(dropout)\n",
        "        self.gru = nn.GRU(hidden_size, hidden_size, n_layers, dropout=(0 if n_layers == 1 else dropout))\n",
        "        self.concat = nn.Linear(hidden_size * 2, hidden_size)\n",
        "        self.out = nn.Linear(hidden_size, output_size)\n",
        "        self.attn = Attn(attn_model, hidden_size)\n",
        "\n",
        "    def forward(self, input_step, last_hidden, encoder_outputs):\n",
        "        embedded = self.embedding(input_step)\n",
        "        embedded = self.embedding_dropout(embedded)\n",
        "        rnn_output, hidden = self.gru(embedded, last_hidden)\n",
        "        attn_weights = self.attn(rnn_output, encoder_outputs)\n",
        "        context = attn_weights.bmm(encoder_outputs.transpose(0, 1))\n",
        "        rnn_output = rnn_output.squeeze(0)\n",
        "        context = context.squeeze(1)\n",
        "        concat_input = torch.cat((rnn_output, context), 1)\n",
        "        concat_output = torch.tanh(self.concat(concat_input))\n",
        "        output = self.out(concat_output)\n",
        "        output = F.softmax(output, dim=1)\n",
        "        return output, hidden\n",
        "\n",
        "class GreedySearchDecoder(nn.Module):\n",
        "    def __init__(self, encoder, decoder, max_response_length=20):\n",
        "        super(GreedySearchDecoder, self).__init__()\n",
        "        self.encoder = encoder\n",
        "        self.decoder = decoder\n",
        "        self.max_response_length = max_response_length\n",
        "\n",
        "    def forward(self, input_seq, input_length, max_length=None):\n",
        "        if max_length is None:\n",
        "            max_length = self.max_response_length\n",
        "\n",
        "        encoder_outputs, encoder_hidden = self.encoder(input_seq, input_length)\n",
        "        decoder_hidden = encoder_hidden[:self.decoder.n_layers]\n",
        "        batch_size = input_seq.size(1)\n",
        "        decoder_input = torch.ones(1, batch_size, device=device, dtype=torch.long) * SOS_token\n",
        "        all_tokens = torch.zeros([0, batch_size], device=device, dtype=torch.long)\n",
        "        all_scores = torch.zeros([0, batch_size], device=device)\n",
        "\n",
        "        for _ in range(max_length):\n",
        "            decoder_output, decoder_hidden = self.decoder(decoder_input, decoder_hidden, encoder_outputs)\n",
        "            decoder_scores, decoder_input = torch.max(decoder_output, dim=1)\n",
        "            all_tokens = torch.cat((all_tokens, decoder_input.unsqueeze(0)), dim=0)\n",
        "            all_scores = torch.cat((all_scores, decoder_scores.unsqueeze(0)), dim=0)\n",
        "            decoder_input = decoder_input.unsqueeze(0)\n",
        "\n",
        "        return all_tokens, all_scores\n",
        "\n",
        "print(\"✅ 神經網絡模型定義完成\")"
      ]
    },
    {
      "cell_type": "code",
      "execution_count": null,
      "metadata": {
        "id": "initialize",
        "colab": {
          "base_uri": "https://localhost:8080/"
        },
        "outputId": "b197b725-f704-45a4-996d-9fb26a5a82e0"
      },
      "outputs": [
        {
          "output_type": "stream",
          "name": "stdout",
          "text": [
            "🔧 初始化模型...\n",
            "✅ 模型初始化完成\n",
            "📊 模型參數: 隱藏層=128, 詞彙量=65, 設備=cuda\n"
          ]
        }
      ],
      "source": [
        "# 10. 模型初始化\n",
        "print(\"🔧 初始化模型...\")\n",
        "\n",
        "model_name = 'chatbot_model'\n",
        "attn_model = 'dot'\n",
        "hidden_size = TRAINING_CONFIG['hidden_size']\n",
        "encoder_n_layers = TRAINING_CONFIG['encoder_n_layers']\n",
        "decoder_n_layers = TRAINING_CONFIG['decoder_n_layers']\n",
        "dropout = TRAINING_CONFIG['dropout']\n",
        "batch_size = TRAINING_CONFIG['batch_size']\n",
        "\n",
        "embedding = nn.Embedding(voc.num_words, hidden_size)\n",
        "encoder = EncoderRNN(hidden_size, embedding, encoder_n_layers, dropout)\n",
        "decoder = LuongAttnDecoderRNN(attn_model, embedding, hidden_size, voc.num_words, decoder_n_layers, dropout)\n",
        "\n",
        "encoder = encoder.to(device)\n",
        "decoder = decoder.to(device)\n",
        "\n",
        "learning_rate = TRAINING_CONFIG['learning_rate']\n",
        "encoder_optimizer = optim.Adam(encoder.parameters(), lr=learning_rate)\n",
        "decoder_optimizer = optim.Adam(decoder.parameters(), lr=learning_rate)\n",
        "\n",
        "searcher = GreedySearchDecoder(encoder, decoder, max_response_length=TRAINING_CONFIG['max_length'])\n",
        "\n",
        "print(f\"✅ 模型初始化完成\")\n",
        "print(f\"📊 模型參數: 隱藏層={hidden_size}, 詞彙量={voc.num_words}, 設備={device}\")"
      ]
    },
    {
      "cell_type": "code",
      "execution_count": null,
      "metadata": {
        "id": "training",
        "colab": {
          "base_uri": "https://localhost:8080/"
        },
        "outputId": "e9ad95f0-b405-4852-8e67-39e710b93156"
      },
      "outputs": [
        {
          "output_type": "stream",
          "name": "stdout",
          "text": [
            "✅ 訓練函數定義完成\n"
          ]
        }
      ],
      "source": [
        "# 11. 訓練函數\n",
        "def maskNLLLoss(inp, target, mask):\n",
        "    nTotal = mask.sum()\n",
        "    crossEntropy = -torch.log(torch.gather(inp, 1, target.view(-1, 1)).squeeze(1))\n",
        "    loss = crossEntropy.masked_select(mask).mean()\n",
        "    loss = loss.to(device)\n",
        "    return loss, nTotal.item()\n",
        "\n",
        "def train(input_variable, lengths, target_variable, mask, max_target_len, encoder, decoder, embedding,\n",
        "          encoder_optimizer, decoder_optimizer, batch_size, clip, teacher_forcing_ratio=1.0, max_length=10):\n",
        "\n",
        "    encoder_optimizer.zero_grad()\n",
        "    decoder_optimizer.zero_grad()\n",
        "\n",
        "    input_variable = input_variable.to(device)\n",
        "    target_variable = target_variable.to(device)\n",
        "    mask = mask.to(device)\n",
        "    # lengths 保持在 CPU 上，因為 pack_padded_sequence 需要 CPU 張量\n",
        "    lengths = lengths.to(\"cpu\")\n",
        "\n",
        "    loss = 0\n",
        "    print_losses = []\n",
        "    n_totals = 0\n",
        "\n",
        "    encoder_outputs, encoder_hidden = encoder(input_variable, lengths)\n",
        "    decoder_input = torch.LongTensor([[SOS_token for _ in range(batch_size)]])\n",
        "    decoder_input = decoder_input.to(device)\n",
        "    decoder_hidden = encoder_hidden[:decoder.n_layers]\n",
        "\n",
        "    use_teacher_forcing = True if random.random() < teacher_forcing_ratio else False\n",
        "\n",
        "    if use_teacher_forcing:\n",
        "        for t in range(max_target_len):\n",
        "            decoder_output, decoder_hidden = decoder(\n",
        "                decoder_input, decoder_hidden, encoder_outputs\n",
        "            )\n",
        "            decoder_input = target_variable[t].view(1, -1)\n",
        "            mask_loss, nTotal = maskNLLLoss(decoder_output, target_variable[t], mask[t])\n",
        "            loss += mask_loss\n",
        "            print_losses.append(mask_loss.item() * nTotal)\n",
        "            n_totals += nTotal\n",
        "    else:\n",
        "        for t in range(max_target_len):\n",
        "            decoder_output, decoder_hidden = decoder(\n",
        "                decoder_input, decoder_hidden, encoder_outputs\n",
        "            )\n",
        "            _, topi = decoder_output.topk(1)\n",
        "            decoder_input = torch.LongTensor([[topi[i][0] for i in range(batch_size)]])\n",
        "            decoder_input = decoder_input.to(device)\n",
        "            mask_loss, nTotal = maskNLLLoss(decoder_output, target_variable[t], mask[t])\n",
        "            loss += mask_loss\n",
        "            print_losses.append(mask_loss.item() * nTotal)\n",
        "            n_totals += nTotal\n",
        "\n",
        "    loss.backward()\n",
        "    _ = nn.utils.clip_grad_norm_(encoder.parameters(), clip)\n",
        "    _ = nn.utils.clip_grad_norm_(decoder.parameters(), clip)\n",
        "    encoder_optimizer.step()\n",
        "    decoder_optimizer.step()\n",
        "\n",
        "    return sum(print_losses) / n_totals if n_totals > 0 else 0\n",
        "\n",
        "print(\"✅ 訓練函數定義完成\")"
      ]
    },
    {
      "cell_type": "code",
      "execution_count": null,
      "metadata": {
        "id": "main_training",
        "colab": {
          "base_uri": "https://localhost:8080/"
        },
        "outputId": "a87fd768-2bca-406c-91e2-d7305c23fdd5"
      },
      "outputs": [
        {
          "output_type": "stream",
          "name": "stdout",
          "text": [
            "🚀 開始重新訓練模型...\n",
            "📊 訓練參數: 迭代=2000, 批次=16\n",
            "📦 準備訓練批次...\n"
          ]
        },
        {
          "output_type": "stream",
          "name": "stderr",
          "text": [
            "準備批次: 100%|██████████| 2000/2000 [00:01<00:00, 1081.42it/s]\n"
          ]
        },
        {
          "output_type": "stream",
          "name": "stdout",
          "text": [
            "\n",
            "🎯 開始訓練循環...\n",
            "📈 迭代:     50 | 進度:   2.5% | 平均損失:  3.9511 | ETA: 1.4分鐘\n",
            "📈 迭代:    100 | 進度:   5.0% | 平均損失:  3.3855 | ETA: 1.0分鐘\n",
            "📈 迭代:    150 | 進度:   7.5% | 平均損失:  3.0272 | ETA: 0.9分鐘\n",
            "📈 迭代:    200 | 進度:  10.0% | 平均損失:  2.6049 | ETA: 0.8分鐘\n",
            "📈 迭代:    250 | 進度:  12.5% | 平均損失:  2.2023 | ETA: 0.7分鐘\n",
            "📈 迭代:    300 | 進度:  15.0% | 平均損失:  1.8135 | ETA: 0.7分鐘\n",
            "📈 迭代:    350 | 進度:  17.5% | 平均損失:  1.4748 | ETA: 0.6分鐘\n",
            "📈 迭代:    400 | 進度:  20.0% | 平均損失:  1.2021 | ETA: 0.6分鐘\n",
            "📈 迭代:    450 | 進度:  22.5% | 平均損失:  0.9529 | ETA: 0.5分鐘\n",
            "📈 迭代:    500 | 進度:  25.0% | 平均損失:  0.7513 | ETA: 0.5分鐘\n",
            "📈 迭代:    550 | 進度:  27.5% | 平均損失:  0.5977 | ETA: 0.5分鐘\n",
            "📈 迭代:    600 | 進度:  30.0% | 平均損失:  0.4707 | ETA: 0.5分鐘\n",
            "📈 迭代:    650 | 進度:  32.5% | 平均損失:  0.3755 | ETA: 0.4分鐘\n",
            "📈 迭代:    700 | 進度:  35.0% | 平均損失:  0.3078 | ETA: 0.4分鐘\n",
            "📈 迭代:    750 | 進度:  37.5% | 平均損失:  0.2571 | ETA: 0.4分鐘\n",
            "📈 迭代:    800 | 進度:  40.0% | 平均損失:  0.2116 | ETA: 0.4分鐘\n",
            "📈 迭代:    850 | 進度:  42.5% | 平均損失:  0.1790 | ETA: 0.4分鐘\n",
            "📈 迭代:    900 | 進度:  45.0% | 平均損失:  0.1538 | ETA: 0.3分鐘\n",
            "📈 迭代:    950 | 進度:  47.5% | 平均損失:  0.1333 | ETA: 0.3分鐘\n",
            "📈 迭代:   1000 | 進度:  50.0% | 平均損失:  0.1108 | ETA: 0.3分鐘\n",
            "📈 迭代:   1050 | 進度:  52.5% | 平均損失:  0.0947 | ETA: 0.3分鐘\n",
            "📈 迭代:   1100 | 進度:  55.0% | 平均損失:  0.0854 | ETA: 0.3分鐘\n",
            "📈 迭代:   1150 | 進度:  57.5% | 平均損失:  0.0744 | ETA: 0.3分鐘\n",
            "📈 迭代:   1200 | 進度:  60.0% | 平均損失:  0.0671 | ETA: 0.2分鐘\n",
            "📈 迭代:   1250 | 進度:  62.5% | 平均損失:  0.0596 | ETA: 0.2分鐘\n",
            "📈 迭代:   1300 | 進度:  65.0% | 平均損失:  0.0537 | ETA: 0.2分鐘\n",
            "📈 迭代:   1350 | 進度:  67.5% | 平均損失:  0.0501 | ETA: 0.2分鐘\n",
            "📈 迭代:   1400 | 進度:  70.0% | 平均損失:  0.0444 | ETA: 0.2分鐘\n",
            "📈 迭代:   1450 | 進度:  72.5% | 平均損失:  0.0409 | ETA: 0.2分鐘\n",
            "📈 迭代:   1500 | 進度:  75.0% | 平均損失:  0.0382 | ETA: 0.1分鐘\n",
            "📈 迭代:   1550 | 進度:  77.5% | 平均損失:  0.0349 | ETA: 0.1分鐘\n",
            "📈 迭代:   1600 | 進度:  80.0% | 平均損失:  0.0320 | ETA: 0.1分鐘\n",
            "📈 迭代:   1650 | 進度:  82.5% | 平均損失:  0.0299 | ETA: 0.1分鐘\n",
            "📈 迭代:   1700 | 進度:  85.0% | 平均損失:  0.0281 | ETA: 0.1分鐘\n",
            "📈 迭代:   1750 | 進度:  87.5% | 平均損失:  0.0259 | ETA: 0.1分鐘\n",
            "📈 迭代:   1800 | 進度:  90.0% | 平均損失:  0.0242 | ETA: 0.1分鐘\n",
            "📈 迭代:   1850 | 進度:  92.5% | 平均損失:  0.0230 | ETA: 0.0分鐘\n",
            "📈 迭代:   1900 | 進度:  95.0% | 平均損失:  0.0216 | ETA: 0.0分鐘\n",
            "📈 迭代:   1950 | 進度:  97.5% | 平均損失:  0.0199 | ETA: 0.0分鐘\n",
            "📈 迭代:   2000 | 進度: 100.0% | 平均損失:  0.0189 | ETA: 0.0分鐘\n",
            "\n",
            "✅ 訓練完成！\n",
            "⏱️ 總訓練時間: 0.6分鐘\n",
            "📉 最終平均損失: 0.0194\n"
          ]
        }
      ],
      "source": [
        "# 12. 主要訓練循環\n",
        "print(\"🚀 開始重新訓練模型...\")\n",
        "print(f\"📊 訓練參數: 迭代={TRAINING_CONFIG['iterations']}, 批次={TRAINING_CONFIG['batch_size']}\")\n",
        "\n",
        "n_iteration = TRAINING_CONFIG['iterations']\n",
        "print_every = TRAINING_CONFIG['print_every']\n",
        "clip = TRAINING_CONFIG['clip']\n",
        "teacher_forcing_ratio = TRAINING_CONFIG['teacher_forcing_ratio']\n",
        "\n",
        "# 準備訓練批次\n",
        "print(\"📦 準備訓練批次...\")\n",
        "training_batches = []\n",
        "for i in tqdm(range(n_iteration), desc=\"準備批次\"):\n",
        "    batch_pairs = [random.choice(training_pairs) for _ in range(batch_size)]\n",
        "    try:\n",
        "        training_batch = batch2TrainData(voc, batch_pairs)\n",
        "        training_batches.append(training_batch)\n",
        "    except Exception as e:\n",
        "        print(f\"批次 {i} 準備失敗: {e}\")\n",
        "        # 使用簡單的批次作為備用\n",
        "        simple_batch = [training_pairs[0] for _ in range(batch_size)]\n",
        "        training_batch = batch2TrainData(voc, simple_batch)\n",
        "        training_batches.append(training_batch)\n",
        "\n",
        "# 訓練循環\n",
        "print_loss = 0\n",
        "loss_history = []\n",
        "start_time = time.time()\n",
        "\n",
        "print(f\"\\n🎯 開始訓練循環...\")\n",
        "\n",
        "for iteration in range(1, n_iteration + 1):\n",
        "    try:\n",
        "        training_batch = training_batches[iteration - 1]\n",
        "        input_variable, lengths, target_variable, mask, max_target_len = training_batch\n",
        "\n",
        "        loss = train(input_variable, lengths, target_variable, mask, max_target_len, encoder,\n",
        "                     decoder, embedding, encoder_optimizer, decoder_optimizer, batch_size, clip,\n",
        "                     teacher_forcing_ratio, TRAINING_CONFIG['max_length'])\n",
        "        print_loss += loss\n",
        "        loss_history.append(loss)\n",
        "\n",
        "        if iteration % print_every == 0:\n",
        "            print_loss_avg = print_loss / print_every\n",
        "            elapsed_time = time.time() - start_time\n",
        "            progress = iteration / n_iteration * 100\n",
        "\n",
        "            if iteration > 0:\n",
        "                time_per_iter = elapsed_time / iteration\n",
        "                remaining_time = time_per_iter * (n_iteration - iteration)\n",
        "                eta_str = f\"ETA: {remaining_time/60:.1f}分鐘\"\n",
        "            else:\n",
        "                eta_str = \"ETA: 計算中...\"\n",
        "\n",
        "            print(f\"📈 迭代: {iteration:>6} | 進度: {progress:>5.1f}% | 平均損失: {print_loss_avg:>7.4f} | {eta_str}\")\n",
        "            print_loss = 0\n",
        "\n",
        "    except Exception as e:\n",
        "        print(f\"迭代 {iteration} 訓練失敗: {e}\")\n",
        "        loss_history.append(0.0)  # 添加零損失以保持一致性\n",
        "        continue\n",
        "\n",
        "total_time = time.time() - start_time\n",
        "print(f\"\\n✅ 訓練完成！\")\n",
        "print(f\"⏱️ 總訓練時間: {total_time/60:.1f}分鐘\")\n",
        "if loss_history:\n",
        "    print(f\"📉 最終平均損失: {np.mean(loss_history[-100:]):.4f}\")\n",
        "else:\n",
        "    print(\"⚠️ 沒有記錄到損失數據\")"
      ]
    },
    {
      "cell_type": "code",
      "execution_count": null,
      "metadata": {
        "id": "visualization",
        "colab": {
          "base_uri": "https://localhost:8080/",
          "height": 694
        },
        "outputId": "9e27a877-4e64-4c46-e05a-778b9b425ba0"
      },
      "outputs": [
        {
          "output_type": "display_data",
          "data": {
            "text/plain": [
              "<Figure size 1000x600 with 1 Axes>"
            ],
            "image/png": "[encoded data removed]"
          },
          "metadata": {}
        },
        {
          "output_type": "stream",
          "name": "stdout",
          "text": [
            "📊 訓練統計:\n",
            "  - 初始損失: 4.2139\n",
            "  - 最終損失: 0.0175\n",
            "  - 最低損失: 0.0169\n",
            "  - 損失改善: 99.6%\n"
          ]
        }
      ],
      "source": [
        "# 13. 訓練結果可視化（使用中文字體）\n",
        "if loss_history and len(loss_history) > 1:\n",
        "    plt.figure(figsize=(10, 6))\n",
        "    plt.plot(loss_history, alpha=0.7, color='blue', linewidth=1)\n",
        "    plt.title('訓練損失曲線', fontsize=16, fontweight='bold')\n",
        "    plt.xlabel('迭代次數', fontsize=12)\n",
        "    plt.ylabel('損失值', fontsize=12)\n",
        "    plt.grid(True, alpha=0.3)\n",
        "\n",
        "    # 添加統計信息到圖表\n",
        "    initial_loss = loss_history[0]\n",
        "    final_loss = loss_history[-1]\n",
        "    min_loss = min(loss_history)\n",
        "\n",
        "    plt.text(0.02, 0.98, f'初始損失: {initial_loss:.4f}\\n最終損失: {final_loss:.4f}\\n最低損失: {min_loss:.4f}',\n",
        "             transform=plt.gca().transAxes, fontsize=10, verticalalignment='top',\n",
        "             bbox=dict(boxstyle='round', facecolor='wheat', alpha=0.8))\n",
        "\n",
        "    plt.tight_layout()\n",
        "    plt.show()\n",
        "\n",
        "    print(f\"📊 訓練統計:\")\n",
        "    print(f\"  - 初始損失: {loss_history[0]:.4f}\")\n",
        "    print(f\"  - 最終損失: {loss_history[-1]:.4f}\")\n",
        "    print(f\"  - 最低損失: {min(loss_history):.4f}\")\n",
        "    if loss_history[0] > 0:\n",
        "        improvement = ((loss_history[0] - loss_history[-1]) / loss_history[0] * 100)\n",
        "        print(f\"  - 損失改善: {improvement:.1f}%\")\n",
        "else:\n",
        "    print(\"⚠️ 無法繪製損失曲線，損失數據不足\")"
      ]
    },
    {
      "cell_type": "code",
      "execution_count": null,
      "metadata": {
        "id": "evaluation",
        "colab": {
          "base_uri": "https://localhost:8080/"
        },
        "outputId": "96f75e37-3d01-47d3-b3c6-1a35270861db"
      },
      "outputs": [
        {
          "output_type": "stream",
          "name": "stdout",
          "text": [
            "✅ 評估函數定義完成\n"
          ]
        }
      ],
      "source": [
        "# 14. 對話評估函數\n",
        "def evaluate(encoder, decoder, searcher, voc, sentence, max_length=None):\n",
        "    try:\n",
        "        if not isinstance(sentence, str):\n",
        "            sentence = str(sentence)\n",
        "\n",
        "        input_sentence = normalizeString(sentence)\n",
        "\n",
        "        if max_length is None:\n",
        "            max_length = TRAINING_CONFIG['max_length']\n",
        "\n",
        "        indexes_batch = [indexesFromSentence(voc, input_sentence)]\n",
        "        lengths = torch.tensor([len(indexes) for indexes in indexes_batch], dtype=torch.long)\n",
        "        input_batch = torch.LongTensor(indexes_batch).transpose(0, 1)\n",
        "        input_batch = input_batch.to(device)\n",
        "        # lengths 保持在 CPU 上\n",
        "\n",
        "        tokens, scores = searcher(input_batch, lengths, max_length)\n",
        "\n",
        "        decoded_words = []\n",
        "        special_tokens = ['EOS', 'PAD', 'SOS', 'UNK']\n",
        "\n",
        "        for token in tokens[:, 0]:\n",
        "            token_item = token.item()\n",
        "            if token_item in voc.index2word:\n",
        "                word = voc.index2word[token_item]\n",
        "                if word not in special_tokens and len(word.strip()) > 0:\n",
        "                    decoded_words.append(word)\n",
        "\n",
        "        if 'EOS' in decoded_words:\n",
        "            decoded_words = decoded_words[:decoded_words.index('EOS')]\n",
        "\n",
        "        if decoded_words:\n",
        "            response = \"\"\n",
        "            for i, word in enumerate(decoded_words):\n",
        "                if i == 0:\n",
        "                    response = word\n",
        "                else:\n",
        "                    if (re.search(r'[\\u4e00-\\u9fff]', word) or\n",
        "                        re.search(r'[\\u4e00-\\u9fff]', response[-1:])):\n",
        "                        response += word\n",
        "                    else:\n",
        "                        response += \" \" + word\n",
        "            return response.strip()\n",
        "        else:\n",
        "            default_responses = [\n",
        "                \"我理解你的意思。\",\n",
        "                \"這是一個有趣的問題。\",\n",
        "                \"讓我想想...\",\n",
        "                \"我需要更多信息。\",\n",
        "                \"這個話題很有意思。\"\n",
        "            ]\n",
        "            return random.choice(default_responses)\n",
        "\n",
        "    except Exception as e:\n",
        "        print(f\"評估過程中出現錯誤: {e}\")\n",
        "        return \"抱歉，我現在無法理解你的問題。\"\n",
        "\n",
        "print(\"✅ 評估函數定義完成\")"
      ]
    },
    {
      "cell_type": "code",
      "execution_count": null,
      "metadata": {
        "id": "test",
        "colab": {
          "base_uri": "https://localhost:8080/"
        },
        "outputId": "4213597f-ff09-49b0-b648-5d8233aa4337"
      },
      "outputs": [
        {
          "output_type": "stream",
          "name": "stdout",
          "text": [
            "🧪 快速測試機器人回應:\n",
            "==================================================\n",
            "1. 👤 輸入: 你好\n",
            "   🤖 回應: 你好！\n",
            "\n",
            "2. 👤 輸入: 你的名字\n",
            "   🤖 回應: 我是聊天機器人\n",
            "\n",
            "3. 👤 輸入: 什麼是RNN\n",
            "   🤖 回應: rnn是循環神經網絡\n",
            "\n",
            "4. 👤 輸入: 謝謝\n",
            "   🤖 回應: 不客氣\n",
            "\n",
            "5. 👤 輸入: hello\n",
            "   🤖 回應: rnn是循環神經網絡\n",
            "\n",
            "6. 👤 輸入: how are you\n",
            "   🤖 回應: i am fine\n",
            "\n",
            "✅ 快速測試完成！\n"
          ]
        }
      ],
      "source": [
        "# 15. 快速測試\n",
        "test_inputs = [\n",
        "    \"你好\",\n",
        "    \"你的名字\",\n",
        "    \"什麼是RNN\",\n",
        "    \"謝謝\",\n",
        "    \"hello\",\n",
        "    \"how are you\"\n",
        "]\n",
        "\n",
        "print(\"🧪 快速測試機器人回應:\")\n",
        "print(\"=\" * 50)\n",
        "\n",
        "for i, test_input in enumerate(test_inputs, 1):\n",
        "    try:\n",
        "        response = evaluate(encoder, decoder, searcher, voc, test_input)\n",
        "        print(f\"{i}. 👤 輸入: {test_input}\")\n",
        "        print(f\"   🤖 回應: {response}\")\n",
        "        print()\n",
        "    except Exception as e:\n",
        "        print(f\"{i}. 👤 輸入: {test_input}\")\n",
        "        print(f\"   ❌ 錯誤: {e}\")\n",
        "        print()\n",
        "\n",
        "print(\"✅ 快速測試完成！\")"
      ]
    },
    {
      "cell_type": "code",
      "execution_count": null,
      "metadata": {
        "id": "interactive",
        "colab": {
          "base_uri": "https://localhost:8080/"
        },
        "outputId": "ab8e6080-04ca-4cd1-9efd-f89b329c33f5"
      },
      "outputs": [
        {
          "output_type": "stream",
          "name": "stdout",
          "text": [
            "🎉 恭喜！RNN聊天機器人訓練完成！\n",
            "\n",
            "現在你可以與機器人進行對話了。\n",
            "\n",
            "🚀 啟動互動式對話模式...\n",
            "🤖 RNN聊天機器人已準備就緒！\n",
            "💬 輸入 'quit', 'exit', '退出' 或 '結束' 來結束對話\n",
            "==================================================\n",
            "\n",
            "👤 你 (1/15): quit\n",
            "\n",
            "🤖 機器人: 再見！很高興與你聊天！\n"
          ]
        }
      ],
      "source": [
        "# 16. 互動式對話\n",
        "def chat_with_bot(encoder, decoder, searcher, voc, max_turns=10):\n",
        "    print(\"🤖 RNN聊天機器人已準備就緒！\")\n",
        "    print(\"💬 輸入 'quit', 'exit', '退出' 或 '結束' 來結束對話\")\n",
        "    print(\"=\" * 50)\n",
        "\n",
        "    turn = 0\n",
        "    while turn < max_turns:\n",
        "        try:\n",
        "            user_input = input(f\"\\n👤 你 ({turn+1}/{max_turns}): \").strip()\n",
        "\n",
        "            if user_input.lower() in ['quit', 'exit', '退出', '結束', 'q']:\n",
        "                print(\"\\n🤖 機器人: 再見！很高興與你聊天！\")\n",
        "                break\n",
        "\n",
        "            if not user_input:\n",
        "                print(\"🤖 機器人: 請輸入一些內容。\")\n",
        "                continue\n",
        "\n",
        "            print(\"🤖 機器人正在思考...\")\n",
        "            response = evaluate(encoder, decoder, searcher, voc, user_input)\n",
        "            print(f\"🤖 機器人: {response}\")\n",
        "\n",
        "            turn += 1\n",
        "\n",
        "        except KeyboardInterrupt:\n",
        "            print(\"\\n\\n🤖 機器人: 對話被中斷。再見！\")\n",
        "            break\n",
        "        except Exception as e:\n",
        "            print(f\"🤖 機器人: 抱歉，出現了一些問題: {e}\")\n",
        "            continue\n",
        "\n",
        "    if turn >= max_turns:\n",
        "        print(f\"\\n🤖 機器人: 我們已經聊了 {max_turns} 輪了！感謝你的陪伴！\")\n",
        "\n",
        "print(\"🎉 恭喜！RNN聊天機器人訓練完成！\")\n",
        "print(\"\\n現在你可以與機器人進行對話了。\")\n",
        "print(\"\\n🚀 啟動互動式對話模式...\")\n",
        "\n",
        "chat_with_bot(encoder, decoder, searcher, voc, max_turns=15)"
      ]
    },
    {
      "cell_type": "markdown",
      "metadata": {
        "id": "conclusion"
      },
      "source": [
        "## 🎯 總結\n",
        "\n",
        "### ✅ 完成的功能\n",
        "- 🔄 **重新訓練模式**: 每次執行都重新訓練模型\n",
        "- 🚀 **GPU加速**: 充分利用Colab的GPU資源\n",
        "- 🤖 **Seq2Seq模型**: 基於GRU的編碼器-解碼器架構\n",
        "- 🎯 **Luong注意力**: 提升對話品質的注意力機制\n",
        "- 💬 **實時對話**: 訓練完成後立即可進行對話\n",
        "- 📊 **訓練監控**: 實時顯示訓練進度和損失曲線\n",
        "- 🌐 **中英文支持**: 支持中英文混合對話\n",
        "- 🛠️ **錯誤處理**: 完善的異常處理機制\n",
        "- 🎨 **中文字體**: 完美支持中文圖表顯示\n",
        "\n",
        "### 🔧 修正的問題\n",
        "- ✅ 修正了 `lengths` 張量設備問題\n",
        "- ✅ 降低了模型複雜度以適合Colab環境\n",
        "- ✅ 添加了完善的錯誤處理\n",
        "- ✅ 優化了訓練參數\n",
        "- ✅ **解決了中文字體顯示問題**\n",
        "\n",
        "### 🎨 字體支持特點\n",
        "- 自動下載並安裝思源黑體\n",
        "- 支持繁體中文顯示\n",
        "- 圖表標題和軸標籤完美顯示中文\n",
        "- 包含字體測試功能\n",
        "\n",
        "**🎉 恭喜！你已經成功在Google Colab上部署了支持中文顯示的RNN聊天機器人！**"
      ]
    }
  ],
  "metadata": {
    "colab": {
      "provenance": [],
      "gpuType": "T4"
    },
    "kernelspec": {
      "display_name": "Python 3",
      "name": "python3"
    },
    "language_info": {
      "name": "python"
    },
    "accelerator": "GPU"
  },
  "nbformat": 4,
  "nbformat_minor": 0
}